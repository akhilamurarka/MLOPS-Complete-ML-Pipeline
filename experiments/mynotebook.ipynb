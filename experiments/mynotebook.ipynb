{
 "cells": [
  {
   "cell_type": "code",
   "execution_count": 19,
   "metadata": {},
   "outputs": [
    {
     "name": "stdout",
     "output_type": "stream",
     "text": [
      "Requirement already satisfied: wordcloud in c:\\python313\\lib\\site-packages (1.9.4)\n",
      "Requirement already satisfied: numpy>=1.6.1 in c:\\python313\\lib\\site-packages (from wordcloud) (2.2.4)\n",
      "Requirement already satisfied: pillow in c:\\python313\\lib\\site-packages (from wordcloud) (11.2.1)\n",
      "Requirement already satisfied: matplotlib in c:\\python313\\lib\\site-packages (from wordcloud) (3.10.1)\n",
      "Requirement already satisfied: contourpy>=1.0.1 in c:\\python313\\lib\\site-packages (from matplotlib->wordcloud) (1.3.2)\n",
      "Requirement already satisfied: cycler>=0.10 in c:\\python313\\lib\\site-packages (from matplotlib->wordcloud) (0.12.1)\n",
      "Requirement already satisfied: fonttools>=4.22.0 in c:\\python313\\lib\\site-packages (from matplotlib->wordcloud) (4.57.0)\n",
      "Requirement already satisfied: kiwisolver>=1.3.1 in c:\\python313\\lib\\site-packages (from matplotlib->wordcloud) (1.4.8)\n",
      "Requirement already satisfied: packaging>=20.0 in c:\\users\\anura\\appdata\\roaming\\python\\python313\\site-packages (from matplotlib->wordcloud) (24.2)\n",
      "Requirement already satisfied: pyparsing>=2.3.1 in c:\\python313\\lib\\site-packages (from matplotlib->wordcloud) (3.2.3)\n",
      "Requirement already satisfied: python-dateutil>=2.7 in c:\\users\\anura\\appdata\\roaming\\python\\python313\\site-packages (from matplotlib->wordcloud) (2.9.0.post0)\n",
      "Requirement already satisfied: six>=1.5 in c:\\users\\anura\\appdata\\roaming\\python\\python313\\site-packages (from python-dateutil>=2.7->matplotlib->wordcloud) (1.17.0)\n",
      "Collecting xgboost\n",
      "  Downloading xgboost-3.0.3-py3-none-win_amd64.whl.metadata (2.1 kB)\n",
      "Requirement already satisfied: numpy in c:\\python313\\lib\\site-packages (from xgboost) (2.2.4)\n",
      "Requirement already satisfied: scipy in c:\\python313\\lib\\site-packages (from xgboost) (1.15.2)\n",
      "Downloading xgboost-3.0.3-py3-none-win_amd64.whl (149.9 MB)\n",
      "   ---------------------------------------- 0.0/149.9 MB ? eta -:--:--\n",
      "   ---------------------------------------- 0.8/149.9 MB 4.6 MB/s eta 0:00:33\n",
      "   ---------------------------------------- 1.6/149.9 MB 4.6 MB/s eta 0:00:33\n",
      "    --------------------------------------- 2.4/149.9 MB 4.1 MB/s eta 0:00:36\n",
      "    --------------------------------------- 3.4/149.9 MB 4.3 MB/s eta 0:00:35\n",
      "   - -------------------------------------- 4.2/149.9 MB 4.1 MB/s eta 0:00:36\n",
      "   - -------------------------------------- 5.0/149.9 MB 4.0 MB/s eta 0:00:37\n",
      "   - -------------------------------------- 5.8/149.9 MB 4.0 MB/s eta 0:00:37\n",
      "   - -------------------------------------- 6.8/149.9 MB 4.0 MB/s eta 0:00:36\n",
      "   - -------------------------------------- 7.3/149.9 MB 4.0 MB/s eta 0:00:36\n",
      "   -- ------------------------------------- 8.4/149.9 MB 3.9 MB/s eta 0:00:36\n",
      "   -- ------------------------------------- 9.2/149.9 MB 3.9 MB/s eta 0:00:36\n",
      "   -- ------------------------------------- 10.2/149.9 MB 4.0 MB/s eta 0:00:35\n",
      "   -- ------------------------------------- 11.0/149.9 MB 4.0 MB/s eta 0:00:35\n",
      "   --- ------------------------------------ 11.8/149.9 MB 4.0 MB/s eta 0:00:35\n",
      "   --- ------------------------------------ 12.6/149.9 MB 4.0 MB/s eta 0:00:35\n",
      "   --- ------------------------------------ 13.4/149.9 MB 3.9 MB/s eta 0:00:36\n",
      "   --- ------------------------------------ 13.9/149.9 MB 3.9 MB/s eta 0:00:36\n",
      "   --- ------------------------------------ 14.7/149.9 MB 3.9 MB/s eta 0:00:35\n",
      "   ---- ----------------------------------- 15.5/149.9 MB 3.9 MB/s eta 0:00:35\n",
      "   ---- ----------------------------------- 16.3/149.9 MB 3.8 MB/s eta 0:00:35\n",
      "   ---- ----------------------------------- 17.0/149.9 MB 3.8 MB/s eta 0:00:35\n",
      "   ---- ----------------------------------- 17.6/149.9 MB 3.8 MB/s eta 0:00:36\n",
      "   ---- ----------------------------------- 18.4/149.9 MB 3.8 MB/s eta 0:00:35\n",
      "   ----- ---------------------------------- 19.4/149.9 MB 3.8 MB/s eta 0:00:35\n",
      "   ----- ---------------------------------- 20.2/149.9 MB 3.8 MB/s eta 0:00:34\n",
      "   ----- ---------------------------------- 21.2/149.9 MB 3.8 MB/s eta 0:00:34\n",
      "   ----- ---------------------------------- 22.0/149.9 MB 3.8 MB/s eta 0:00:34\n",
      "   ------ --------------------------------- 22.8/149.9 MB 3.9 MB/s eta 0:00:33\n",
      "   ------ --------------------------------- 23.9/149.9 MB 3.9 MB/s eta 0:00:33\n",
      "   ------ --------------------------------- 24.4/149.9 MB 3.8 MB/s eta 0:00:33\n",
      "   ------ --------------------------------- 25.4/149.9 MB 3.9 MB/s eta 0:00:33\n",
      "   ------ --------------------------------- 26.2/149.9 MB 3.9 MB/s eta 0:00:32\n",
      "   ------- -------------------------------- 27.3/149.9 MB 3.9 MB/s eta 0:00:32\n",
      "   ------- -------------------------------- 28.3/149.9 MB 3.9 MB/s eta 0:00:32\n",
      "   ------- -------------------------------- 29.1/149.9 MB 3.9 MB/s eta 0:00:31\n",
      "   -------- ------------------------------- 30.1/149.9 MB 3.9 MB/s eta 0:00:31\n",
      "   -------- ------------------------------- 30.9/149.9 MB 3.9 MB/s eta 0:00:31\n",
      "   -------- ------------------------------- 32.0/149.9 MB 3.9 MB/s eta 0:00:30\n",
      "   -------- ------------------------------- 32.8/149.9 MB 4.0 MB/s eta 0:00:30\n",
      "   -------- ------------------------------- 33.6/149.9 MB 4.0 MB/s eta 0:00:30\n",
      "   --------- ------------------------------ 34.6/149.9 MB 4.0 MB/s eta 0:00:30\n",
      "   --------- ------------------------------ 35.4/149.9 MB 4.0 MB/s eta 0:00:29\n",
      "   --------- ------------------------------ 36.4/149.9 MB 4.0 MB/s eta 0:00:29\n",
      "   ---------- ----------------------------- 37.5/149.9 MB 4.0 MB/s eta 0:00:29\n",
      "   ---------- ----------------------------- 38.3/149.9 MB 4.0 MB/s eta 0:00:28\n",
      "   ---------- ----------------------------- 39.3/149.9 MB 4.0 MB/s eta 0:00:28\n",
      "   ---------- ----------------------------- 40.4/149.9 MB 4.0 MB/s eta 0:00:28\n",
      "   ----------- ---------------------------- 41.4/149.9 MB 4.0 MB/s eta 0:00:27\n",
      "   ----------- ---------------------------- 42.5/149.9 MB 4.1 MB/s eta 0:00:27\n",
      "   ----------- ---------------------------- 43.5/149.9 MB 4.1 MB/s eta 0:00:27\n",
      "   ----------- ---------------------------- 44.6/149.9 MB 4.1 MB/s eta 0:00:26\n",
      "   ------------ --------------------------- 45.6/149.9 MB 4.1 MB/s eta 0:00:26\n",
      "   ------------ --------------------------- 46.4/149.9 MB 4.1 MB/s eta 0:00:26\n",
      "   ------------ --------------------------- 47.4/149.9 MB 4.1 MB/s eta 0:00:25\n",
      "   ------------ --------------------------- 48.0/149.9 MB 4.1 MB/s eta 0:00:25\n",
      "   ------------- -------------------------- 49.0/149.9 MB 4.1 MB/s eta 0:00:25\n",
      "   ------------- -------------------------- 49.8/149.9 MB 4.1 MB/s eta 0:00:25\n",
      "   ------------- -------------------------- 50.3/149.9 MB 4.1 MB/s eta 0:00:25\n",
      "   ------------- -------------------------- 51.4/149.9 MB 4.1 MB/s eta 0:00:25\n",
      "   ------------- -------------------------- 52.2/149.9 MB 4.1 MB/s eta 0:00:24\n",
      "   -------------- ------------------------- 53.2/149.9 MB 4.1 MB/s eta 0:00:24\n",
      "   -------------- ------------------------- 53.5/149.9 MB 4.1 MB/s eta 0:00:24\n",
      "   -------------- ------------------------- 54.3/149.9 MB 4.0 MB/s eta 0:00:24\n",
      "   -------------- ------------------------- 55.1/149.9 MB 4.0 MB/s eta 0:00:24\n",
      "   -------------- ------------------------- 56.1/149.9 MB 4.0 MB/s eta 0:00:24\n",
      "   --------------- ------------------------ 56.9/149.9 MB 4.0 MB/s eta 0:00:23\n",
      "   --------------- ------------------------ 58.2/149.9 MB 4.1 MB/s eta 0:00:23\n",
      "   --------------- ------------------------ 59.2/149.9 MB 4.1 MB/s eta 0:00:23\n",
      "   ---------------- ----------------------- 60.0/149.9 MB 4.1 MB/s eta 0:00:22\n",
      "   ---------------- ----------------------- 61.1/149.9 MB 4.1 MB/s eta 0:00:22\n",
      "   ---------------- ----------------------- 61.9/149.9 MB 4.1 MB/s eta 0:00:22\n",
      "   ---------------- ----------------------- 62.9/149.9 MB 4.1 MB/s eta 0:00:22\n",
      "   ----------------- ---------------------- 64.0/149.9 MB 4.1 MB/s eta 0:00:21\n",
      "   ----------------- ---------------------- 65.0/149.9 MB 4.1 MB/s eta 0:00:21\n",
      "   ----------------- ---------------------- 66.1/149.9 MB 4.1 MB/s eta 0:00:21\n",
      "   ----------------- ---------------------- 67.1/149.9 MB 4.1 MB/s eta 0:00:21\n",
      "   ------------------ --------------------- 68.2/149.9 MB 4.1 MB/s eta 0:00:20\n",
      "   ------------------ --------------------- 69.2/149.9 MB 4.2 MB/s eta 0:00:20\n",
      "   ------------------ --------------------- 70.3/149.9 MB 4.2 MB/s eta 0:00:20\n",
      "   ------------------ --------------------- 71.0/149.9 MB 4.2 MB/s eta 0:00:19\n",
      "   ------------------- -------------------- 71.8/149.9 MB 4.2 MB/s eta 0:00:19\n",
      "   ------------------- -------------------- 72.6/149.9 MB 4.2 MB/s eta 0:00:19\n",
      "   ------------------- -------------------- 73.7/149.9 MB 4.2 MB/s eta 0:00:19\n",
      "   ------------------- -------------------- 74.4/149.9 MB 4.2 MB/s eta 0:00:19\n",
      "   -------------------- ------------------- 75.2/149.9 MB 4.2 MB/s eta 0:00:18\n",
      "   -------------------- ------------------- 76.3/149.9 MB 4.2 MB/s eta 0:00:18\n",
      "   -------------------- ------------------- 77.1/149.9 MB 4.2 MB/s eta 0:00:18\n",
      "   -------------------- ------------------- 78.1/149.9 MB 4.2 MB/s eta 0:00:18\n",
      "   --------------------- ------------------ 79.2/149.9 MB 4.2 MB/s eta 0:00:17\n",
      "   --------------------- ------------------ 80.0/149.9 MB 4.2 MB/s eta 0:00:17\n",
      "   --------------------- ------------------ 80.7/149.9 MB 4.2 MB/s eta 0:00:17\n",
      "   --------------------- ------------------ 81.8/149.9 MB 4.2 MB/s eta 0:00:17\n",
      "   ---------------------- ----------------- 82.8/149.9 MB 4.2 MB/s eta 0:00:17\n",
      "   ---------------------- ----------------- 83.9/149.9 MB 4.2 MB/s eta 0:00:16\n",
      "   ---------------------- ----------------- 84.7/149.9 MB 4.2 MB/s eta 0:00:16\n",
      "   ---------------------- ----------------- 85.7/149.9 MB 4.2 MB/s eta 0:00:16\n",
      "   ----------------------- ---------------- 86.5/149.9 MB 4.2 MB/s eta 0:00:16\n",
      "   ----------------------- ---------------- 87.6/149.9 MB 4.2 MB/s eta 0:00:15\n",
      "   ----------------------- ---------------- 88.6/149.9 MB 4.2 MB/s eta 0:00:15\n",
      "   ----------------------- ---------------- 89.4/149.9 MB 4.2 MB/s eta 0:00:15\n",
      "   ------------------------ --------------- 90.4/149.9 MB 4.2 MB/s eta 0:00:15\n",
      "   ------------------------ --------------- 91.2/149.9 MB 4.2 MB/s eta 0:00:14\n",
      "   ------------------------ --------------- 92.3/149.9 MB 4.2 MB/s eta 0:00:14\n",
      "   ------------------------ --------------- 93.3/149.9 MB 4.2 MB/s eta 0:00:14\n",
      "   ------------------------- -------------- 94.4/149.9 MB 4.2 MB/s eta 0:00:14\n",
      "   ------------------------- -------------- 95.4/149.9 MB 4.2 MB/s eta 0:00:13\n",
      "   ------------------------- -------------- 96.5/149.9 MB 4.2 MB/s eta 0:00:13\n",
      "   -------------------------- ------------- 97.8/149.9 MB 4.2 MB/s eta 0:00:13\n",
      "   -------------------------- ------------- 98.8/149.9 MB 4.3 MB/s eta 0:00:12\n",
      "   -------------------------- ------------- 99.9/149.9 MB 4.3 MB/s eta 0:00:12\n",
      "   -------------------------- ------------- 100.7/149.9 MB 4.3 MB/s eta 0:00:12\n",
      "   --------------------------- ------------ 101.7/149.9 MB 4.3 MB/s eta 0:00:12\n",
      "   --------------------------- ------------ 102.8/149.9 MB 4.3 MB/s eta 0:00:12\n",
      "   --------------------------- ------------ 103.5/149.9 MB 4.3 MB/s eta 0:00:11\n",
      "   --------------------------- ------------ 104.6/149.9 MB 4.3 MB/s eta 0:00:11\n",
      "   ---------------------------- ----------- 105.6/149.9 MB 4.3 MB/s eta 0:00:11\n",
      "   ---------------------------- ----------- 106.4/149.9 MB 4.3 MB/s eta 0:00:11\n",
      "   ---------------------------- ----------- 107.5/149.9 MB 4.3 MB/s eta 0:00:10\n",
      "   ---------------------------- ----------- 108.5/149.9 MB 4.3 MB/s eta 0:00:10\n",
      "   ----------------------------- ---------- 109.8/149.9 MB 4.3 MB/s eta 0:00:10\n",
      "   ----------------------------- ---------- 110.9/149.9 MB 4.3 MB/s eta 0:00:10\n",
      "   ----------------------------- ---------- 111.9/149.9 MB 4.3 MB/s eta 0:00:09\n",
      "   ------------------------------ --------- 113.0/149.9 MB 4.3 MB/s eta 0:00:09\n",
      "   ------------------------------ --------- 114.0/149.9 MB 4.3 MB/s eta 0:00:09\n",
      "   ------------------------------ --------- 115.1/149.9 MB 4.3 MB/s eta 0:00:09\n",
      "   ------------------------------- -------- 116.4/149.9 MB 4.3 MB/s eta 0:00:08\n",
      "   ------------------------------- -------- 117.4/149.9 MB 4.3 MB/s eta 0:00:08\n",
      "   ------------------------------- -------- 118.5/149.9 MB 4.3 MB/s eta 0:00:08\n",
      "   ------------------------------- -------- 119.5/149.9 MB 4.3 MB/s eta 0:00:07\n",
      "   -------------------------------- ------- 120.6/149.9 MB 4.4 MB/s eta 0:00:07\n",
      "   -------------------------------- ------- 121.9/149.9 MB 4.4 MB/s eta 0:00:07\n",
      "   -------------------------------- ------- 122.9/149.9 MB 4.4 MB/s eta 0:00:07\n",
      "   --------------------------------- ------ 124.0/149.9 MB 4.4 MB/s eta 0:00:06\n",
      "   --------------------------------- ------ 125.0/149.9 MB 4.4 MB/s eta 0:00:06\n",
      "   --------------------------------- ------ 126.1/149.9 MB 4.4 MB/s eta 0:00:06\n",
      "   --------------------------------- ------ 127.1/149.9 MB 4.4 MB/s eta 0:00:06\n",
      "   ---------------------------------- ----- 128.2/149.9 MB 4.4 MB/s eta 0:00:05\n",
      "   ---------------------------------- ----- 129.2/149.9 MB 4.4 MB/s eta 0:00:05\n",
      "   ---------------------------------- ----- 130.0/149.9 MB 4.4 MB/s eta 0:00:05\n",
      "   ---------------------------------- ----- 130.8/149.9 MB 4.4 MB/s eta 0:00:05\n",
      "   ----------------------------------- ---- 131.9/149.9 MB 4.4 MB/s eta 0:00:05\n",
      "   ----------------------------------- ---- 133.2/149.9 MB 4.4 MB/s eta 0:00:04\n",
      "   ----------------------------------- ---- 134.2/149.9 MB 4.4 MB/s eta 0:00:04\n",
      "   ------------------------------------ --- 135.3/149.9 MB 4.4 MB/s eta 0:00:04\n",
      "   ------------------------------------ --- 136.3/149.9 MB 4.4 MB/s eta 0:00:04\n",
      "   ------------------------------------ --- 137.4/149.9 MB 4.4 MB/s eta 0:00:03\n",
      "   ------------------------------------ --- 138.4/149.9 MB 4.4 MB/s eta 0:00:03\n",
      "   ------------------------------------- -- 139.7/149.9 MB 4.4 MB/s eta 0:00:03\n",
      "   ------------------------------------- -- 140.8/149.9 MB 4.5 MB/s eta 0:00:03\n",
      "   ------------------------------------- -- 141.8/149.9 MB 4.5 MB/s eta 0:00:02\n",
      "   -------------------------------------- - 142.9/149.9 MB 4.5 MB/s eta 0:00:02\n",
      "   -------------------------------------- - 144.2/149.9 MB 4.5 MB/s eta 0:00:02\n",
      "   -------------------------------------- - 145.2/149.9 MB 4.5 MB/s eta 0:00:02\n",
      "   ---------------------------------------  146.5/149.9 MB 4.5 MB/s eta 0:00:01\n",
      "   ---------------------------------------  147.6/149.9 MB 4.5 MB/s eta 0:00:01\n",
      "   ---------------------------------------  148.6/149.9 MB 4.5 MB/s eta 0:00:01\n",
      "   ---------------------------------------  149.7/149.9 MB 4.5 MB/s eta 0:00:01\n",
      "   ---------------------------------------  149.7/149.9 MB 4.5 MB/s eta 0:00:01\n",
      "   ---------------------------------------- 149.9/149.9 MB 4.5 MB/s  0:00:33\n",
      "Installing collected packages: xgboost\n",
      "Successfully installed xgboost-3.0.3\n"
     ]
    }
   ],
   "source": [
    "!pip install wordcloud\n",
    "!pip install xgboost"
   ]
  },
  {
   "cell_type": "markdown",
   "metadata": {},
   "source": [
    "## Basic Imports"
   ]
  },
  {
   "cell_type": "code",
   "execution_count": 3,
   "metadata": {},
   "outputs": [
    {
     "name": "stderr",
     "output_type": "stream",
     "text": [
      "[nltk_data] Downloading package stopwords to\n",
      "[nltk_data]     C:\\Users\\anura\\AppData\\Roaming\\nltk_data...\n",
      "[nltk_data]   Unzipping corpora\\stopwords.zip.\n",
      "[nltk_data] Downloading package punkt to\n",
      "[nltk_data]     C:\\Users\\anura\\AppData\\Roaming\\nltk_data...\n",
      "[nltk_data]   Unzipping tokenizers\\punkt.zip.\n"
     ]
    },
    {
     "data": {
      "text/plain": [
       "True"
      ]
     },
     "execution_count": 3,
     "metadata": {},
     "output_type": "execute_result"
    }
   ],
   "source": [
    "# Importing necessary libraries\n",
    "import numpy as np        # For numerical operations\n",
    "import pandas as pd       # For data manipulation and analysis\n",
    "import matplotlib.pyplot as plt  # For data visualization\n",
    "%matplotlib inline\n",
    "  \n",
    "# Importing WordCloud for text visualization\n",
    "from wordcloud import WordCloud\n",
    "\n",
    "# Importing NLTK for natural language processing\n",
    "import nltk\n",
    "from nltk.corpus import stopwords    # For stopwords\n",
    "\n",
    "\n",
    "# Downloading NLTK data\n",
    "nltk.download('stopwords')   # Downloading stopwords data\n",
    "nltk.download('punkt')       # Downloading tokenizer data"
   ]
  },
  {
   "cell_type": "code",
   "execution_count": 4,
   "metadata": {},
   "outputs": [
    {
     "data": {
      "text/html": [
       "<div>\n",
       "<style scoped>\n",
       "    .dataframe tbody tr th:only-of-type {\n",
       "        vertical-align: middle;\n",
       "    }\n",
       "\n",
       "    .dataframe tbody tr th {\n",
       "        vertical-align: top;\n",
       "    }\n",
       "\n",
       "    .dataframe thead th {\n",
       "        text-align: right;\n",
       "    }\n",
       "</style>\n",
       "<table border=\"1\" class=\"dataframe\">\n",
       "  <thead>\n",
       "    <tr style=\"text-align: right;\">\n",
       "      <th></th>\n",
       "      <th>v1</th>\n",
       "      <th>v2</th>\n",
       "      <th>Unnamed: 2</th>\n",
       "      <th>Unnamed: 3</th>\n",
       "      <th>Unnamed: 4</th>\n",
       "    </tr>\n",
       "  </thead>\n",
       "  <tbody>\n",
       "    <tr>\n",
       "      <th>0</th>\n",
       "      <td>ham</td>\n",
       "      <td>Go until jurong point, crazy.. Available only ...</td>\n",
       "      <td>NaN</td>\n",
       "      <td>NaN</td>\n",
       "      <td>NaN</td>\n",
       "    </tr>\n",
       "    <tr>\n",
       "      <th>1</th>\n",
       "      <td>ham</td>\n",
       "      <td>Ok lar... Joking wif u oni...</td>\n",
       "      <td>NaN</td>\n",
       "      <td>NaN</td>\n",
       "      <td>NaN</td>\n",
       "    </tr>\n",
       "    <tr>\n",
       "      <th>2</th>\n",
       "      <td>spam</td>\n",
       "      <td>Free entry in 2 a wkly comp to win FA Cup fina...</td>\n",
       "      <td>NaN</td>\n",
       "      <td>NaN</td>\n",
       "      <td>NaN</td>\n",
       "    </tr>\n",
       "    <tr>\n",
       "      <th>3</th>\n",
       "      <td>ham</td>\n",
       "      <td>U dun say so early hor... U c already then say...</td>\n",
       "      <td>NaN</td>\n",
       "      <td>NaN</td>\n",
       "      <td>NaN</td>\n",
       "    </tr>\n",
       "    <tr>\n",
       "      <th>4</th>\n",
       "      <td>ham</td>\n",
       "      <td>Nah I don't think he goes to usf, he lives aro...</td>\n",
       "      <td>NaN</td>\n",
       "      <td>NaN</td>\n",
       "      <td>NaN</td>\n",
       "    </tr>\n",
       "  </tbody>\n",
       "</table>\n",
       "</div>"
      ],
      "text/plain": [
       "     v1                                                 v2 Unnamed: 2  \\\n",
       "0   ham  Go until jurong point, crazy.. Available only ...        NaN   \n",
       "1   ham                      Ok lar... Joking wif u oni...        NaN   \n",
       "2  spam  Free entry in 2 a wkly comp to win FA Cup fina...        NaN   \n",
       "3   ham  U dun say so early hor... U c already then say...        NaN   \n",
       "4   ham  Nah I don't think he goes to usf, he lives aro...        NaN   \n",
       "\n",
       "  Unnamed: 3 Unnamed: 4  \n",
       "0        NaN        NaN  \n",
       "1        NaN        NaN  \n",
       "2        NaN        NaN  \n",
       "3        NaN        NaN  \n",
       "4        NaN        NaN  "
      ]
     },
     "execution_count": 4,
     "metadata": {},
     "output_type": "execute_result"
    }
   ],
   "source": [
    "# Read the CSV file\n",
    "df = pd.read_csv('spam.csv')\n",
    "\n",
    "# Display the first few rows of the DataFrame\n",
    "df.head()"
   ]
  },
  {
   "cell_type": "code",
   "execution_count": 5,
   "metadata": {},
   "outputs": [
    {
     "data": {
      "text/html": [
       "<div>\n",
       "<style scoped>\n",
       "    .dataframe tbody tr th:only-of-type {\n",
       "        vertical-align: middle;\n",
       "    }\n",
       "\n",
       "    .dataframe tbody tr th {\n",
       "        vertical-align: top;\n",
       "    }\n",
       "\n",
       "    .dataframe thead th {\n",
       "        text-align: right;\n",
       "    }\n",
       "</style>\n",
       "<table border=\"1\" class=\"dataframe\">\n",
       "  <thead>\n",
       "    <tr style=\"text-align: right;\">\n",
       "      <th></th>\n",
       "      <th>v1</th>\n",
       "      <th>v2</th>\n",
       "    </tr>\n",
       "  </thead>\n",
       "  <tbody>\n",
       "    <tr>\n",
       "      <th>0</th>\n",
       "      <td>ham</td>\n",
       "      <td>Go until jurong point, crazy.. Available only ...</td>\n",
       "    </tr>\n",
       "    <tr>\n",
       "      <th>1</th>\n",
       "      <td>ham</td>\n",
       "      <td>Ok lar... Joking wif u oni...</td>\n",
       "    </tr>\n",
       "    <tr>\n",
       "      <th>2</th>\n",
       "      <td>spam</td>\n",
       "      <td>Free entry in 2 a wkly comp to win FA Cup fina...</td>\n",
       "    </tr>\n",
       "    <tr>\n",
       "      <th>3</th>\n",
       "      <td>ham</td>\n",
       "      <td>U dun say so early hor... U c already then say...</td>\n",
       "    </tr>\n",
       "    <tr>\n",
       "      <th>4</th>\n",
       "      <td>ham</td>\n",
       "      <td>Nah I don't think he goes to usf, he lives aro...</td>\n",
       "    </tr>\n",
       "  </tbody>\n",
       "</table>\n",
       "</div>"
      ],
      "text/plain": [
       "     v1                                                 v2\n",
       "0   ham  Go until jurong point, crazy.. Available only ...\n",
       "1   ham                      Ok lar... Joking wif u oni...\n",
       "2  spam  Free entry in 2 a wkly comp to win FA Cup fina...\n",
       "3   ham  U dun say so early hor... U c already then say...\n",
       "4   ham  Nah I don't think he goes to usf, he lives aro..."
      ]
     },
     "execution_count": 5,
     "metadata": {},
     "output_type": "execute_result"
    }
   ],
   "source": [
    "df.drop(columns = ['Unnamed: 2', 'Unnamed: 3', 'Unnamed: 4'], inplace = True)\n",
    "df.head()"
   ]
  },
  {
   "cell_type": "code",
   "execution_count": 6,
   "metadata": {},
   "outputs": [
    {
     "data": {
      "text/html": [
       "<div>\n",
       "<style scoped>\n",
       "    .dataframe tbody tr th:only-of-type {\n",
       "        vertical-align: middle;\n",
       "    }\n",
       "\n",
       "    .dataframe tbody tr th {\n",
       "        vertical-align: top;\n",
       "    }\n",
       "\n",
       "    .dataframe thead th {\n",
       "        text-align: right;\n",
       "    }\n",
       "</style>\n",
       "<table border=\"1\" class=\"dataframe\">\n",
       "  <thead>\n",
       "    <tr style=\"text-align: right;\">\n",
       "      <th></th>\n",
       "      <th>target</th>\n",
       "      <th>text</th>\n",
       "    </tr>\n",
       "  </thead>\n",
       "  <tbody>\n",
       "    <tr>\n",
       "      <th>0</th>\n",
       "      <td>ham</td>\n",
       "      <td>Go until jurong point, crazy.. Available only ...</td>\n",
       "    </tr>\n",
       "    <tr>\n",
       "      <th>1</th>\n",
       "      <td>ham</td>\n",
       "      <td>Ok lar... Joking wif u oni...</td>\n",
       "    </tr>\n",
       "    <tr>\n",
       "      <th>2</th>\n",
       "      <td>spam</td>\n",
       "      <td>Free entry in 2 a wkly comp to win FA Cup fina...</td>\n",
       "    </tr>\n",
       "    <tr>\n",
       "      <th>3</th>\n",
       "      <td>ham</td>\n",
       "      <td>U dun say so early hor... U c already then say...</td>\n",
       "    </tr>\n",
       "    <tr>\n",
       "      <th>4</th>\n",
       "      <td>ham</td>\n",
       "      <td>Nah I don't think he goes to usf, he lives aro...</td>\n",
       "    </tr>\n",
       "  </tbody>\n",
       "</table>\n",
       "</div>"
      ],
      "text/plain": [
       "  target                                               text\n",
       "0    ham  Go until jurong point, crazy.. Available only ...\n",
       "1    ham                      Ok lar... Joking wif u oni...\n",
       "2   spam  Free entry in 2 a wkly comp to win FA Cup fina...\n",
       "3    ham  U dun say so early hor... U c already then say...\n",
       "4    ham  Nah I don't think he goes to usf, he lives aro..."
      ]
     },
     "execution_count": 6,
     "metadata": {},
     "output_type": "execute_result"
    }
   ],
   "source": [
    "# Rename the columns name\n",
    "df.rename(columns = {'v1': 'target', 'v2': 'text'}, inplace = True)\n",
    "df.head()"
   ]
  },
  {
   "cell_type": "markdown",
   "metadata": {},
   "source": [
    "## Data Preprocessing"
   ]
  },
  {
   "cell_type": "code",
   "execution_count": 7,
   "metadata": {},
   "outputs": [
    {
     "data": {
      "text/html": [
       "<div>\n",
       "<style scoped>\n",
       "    .dataframe tbody tr th:only-of-type {\n",
       "        vertical-align: middle;\n",
       "    }\n",
       "\n",
       "    .dataframe tbody tr th {\n",
       "        vertical-align: top;\n",
       "    }\n",
       "\n",
       "    .dataframe thead th {\n",
       "        text-align: right;\n",
       "    }\n",
       "</style>\n",
       "<table border=\"1\" class=\"dataframe\">\n",
       "  <thead>\n",
       "    <tr style=\"text-align: right;\">\n",
       "      <th></th>\n",
       "      <th>target</th>\n",
       "      <th>text</th>\n",
       "    </tr>\n",
       "  </thead>\n",
       "  <tbody>\n",
       "    <tr>\n",
       "      <th>0</th>\n",
       "      <td>0</td>\n",
       "      <td>Go until jurong point, crazy.. Available only ...</td>\n",
       "    </tr>\n",
       "    <tr>\n",
       "      <th>1</th>\n",
       "      <td>0</td>\n",
       "      <td>Ok lar... Joking wif u oni...</td>\n",
       "    </tr>\n",
       "    <tr>\n",
       "      <th>2</th>\n",
       "      <td>1</td>\n",
       "      <td>Free entry in 2 a wkly comp to win FA Cup fina...</td>\n",
       "    </tr>\n",
       "    <tr>\n",
       "      <th>3</th>\n",
       "      <td>0</td>\n",
       "      <td>U dun say so early hor... U c already then say...</td>\n",
       "    </tr>\n",
       "    <tr>\n",
       "      <th>4</th>\n",
       "      <td>0</td>\n",
       "      <td>Nah I don't think he goes to usf, he lives aro...</td>\n",
       "    </tr>\n",
       "  </tbody>\n",
       "</table>\n",
       "</div>"
      ],
      "text/plain": [
       "   target                                               text\n",
       "0       0  Go until jurong point, crazy.. Available only ...\n",
       "1       0                      Ok lar... Joking wif u oni...\n",
       "2       1  Free entry in 2 a wkly comp to win FA Cup fina...\n",
       "3       0  U dun say so early hor... U c already then say...\n",
       "4       0  Nah I don't think he goes to usf, he lives aro..."
      ]
     },
     "execution_count": 7,
     "metadata": {},
     "output_type": "execute_result"
    }
   ],
   "source": [
    "from sklearn.preprocessing import LabelEncoder\n",
    "\n",
    "encoder = LabelEncoder()\n",
    "df['target'] = encoder.fit_transform(df['target'])\n",
    "\n",
    "df.head()"
   ]
  },
  {
   "cell_type": "code",
   "execution_count": 8,
   "metadata": {},
   "outputs": [
    {
     "data": {
      "text/plain": [
       "np.int64(403)"
      ]
     },
     "execution_count": 8,
     "metadata": {},
     "output_type": "execute_result"
    }
   ],
   "source": [
    "#check duplicate values\n",
    "df.duplicated().sum()"
   ]
  },
  {
   "cell_type": "code",
   "execution_count": 9,
   "metadata": {},
   "outputs": [
    {
     "data": {
      "text/plain": [
       "5572"
      ]
     },
     "execution_count": 9,
     "metadata": {},
     "output_type": "execute_result"
    }
   ],
   "source": [
    "len(df)"
   ]
  },
  {
   "cell_type": "code",
   "execution_count": 10,
   "metadata": {},
   "outputs": [
    {
     "data": {
      "text/plain": [
       "5169"
      ]
     },
     "execution_count": 10,
     "metadata": {},
     "output_type": "execute_result"
    }
   ],
   "source": [
    "#remove Duplicate\n",
    "df = df.drop_duplicates(keep = 'first')\n",
    "len(df)"
   ]
  },
  {
   "cell_type": "markdown",
   "metadata": {},
   "source": [
    "## Feature Engg"
   ]
  },
  {
   "cell_type": "code",
   "execution_count": 11,
   "metadata": {},
   "outputs": [],
   "source": [
    "# Importing the Porter Stemmer for text stemming\n",
    "from nltk.stem.porter import PorterStemmer\n",
    "\n",
    "# Importing the string module for handling special characters\n",
    "import string\n",
    "\n",
    "# Creating an instance of the Porter Stemmer\n",
    "ps = PorterStemmer()"
   ]
  },
  {
   "cell_type": "code",
   "execution_count": 12,
   "metadata": {},
   "outputs": [],
   "source": [
    "# Lowercase transformation and text preprocessing function\n",
    "def transform_text(text):\n",
    "    # Transform the text to lowercase\n",
    "    text = text.lower()\n",
    "    \n",
    "    # Tokenization using NLTK\n",
    "    text = nltk.word_tokenize(text)\n",
    "    \n",
    "    # Removing special characters\n",
    "    y = []\n",
    "    for i in text:\n",
    "        if i.isalnum():\n",
    "            y.append(i)\n",
    "            \n",
    "    # Removing stop words and punctuation\n",
    "    text = y[:]\n",
    "    y.clear()\n",
    "    \n",
    "    # Loop through the tokens and remove stopwords and punctuation\n",
    "    for i in text:\n",
    "        if i not in stopwords.words('english') and i not in string.punctuation:\n",
    "            y.append(i)\n",
    "        \n",
    "    # Stemming using Porter Stemmer\n",
    "    text = y[:]\n",
    "    y.clear()\n",
    "    for i in text:\n",
    "        y.append(ps.stem(i))\n",
    "    \n",
    "    # Join the processed tokens back into a single string\n",
    "    return \" \".join(y)"
   ]
  },
  {
   "cell_type": "code",
   "execution_count": 13,
   "metadata": {},
   "outputs": [
    {
     "data": {
      "text/plain": [
       "'go jurong point crazi avail bugi n great world la e buffet cine got amor wat'"
      ]
     },
     "execution_count": 13,
     "metadata": {},
     "output_type": "execute_result"
    }
   ],
   "source": [
    "transform_text('Go until jurong point, crazy.. Available only in bugis n great world la e buffet... Cine there got amore wat...')"
   ]
  },
  {
   "cell_type": "code",
   "execution_count": 14,
   "metadata": {},
   "outputs": [
    {
     "data": {
      "text/html": [
       "<div>\n",
       "<style scoped>\n",
       "    .dataframe tbody tr th:only-of-type {\n",
       "        vertical-align: middle;\n",
       "    }\n",
       "\n",
       "    .dataframe tbody tr th {\n",
       "        vertical-align: top;\n",
       "    }\n",
       "\n",
       "    .dataframe thead th {\n",
       "        text-align: right;\n",
       "    }\n",
       "</style>\n",
       "<table border=\"1\" class=\"dataframe\">\n",
       "  <thead>\n",
       "    <tr style=\"text-align: right;\">\n",
       "      <th></th>\n",
       "      <th>target</th>\n",
       "      <th>text</th>\n",
       "      <th>transformed_text</th>\n",
       "    </tr>\n",
       "  </thead>\n",
       "  <tbody>\n",
       "    <tr>\n",
       "      <th>0</th>\n",
       "      <td>0</td>\n",
       "      <td>Go until jurong point, crazy.. Available only ...</td>\n",
       "      <td>go jurong point crazi avail bugi n great world...</td>\n",
       "    </tr>\n",
       "    <tr>\n",
       "      <th>1</th>\n",
       "      <td>0</td>\n",
       "      <td>Ok lar... Joking wif u oni...</td>\n",
       "      <td>ok lar joke wif u oni</td>\n",
       "    </tr>\n",
       "    <tr>\n",
       "      <th>2</th>\n",
       "      <td>1</td>\n",
       "      <td>Free entry in 2 a wkly comp to win FA Cup fina...</td>\n",
       "      <td>free entri 2 wkli comp win fa cup final tkt 21...</td>\n",
       "    </tr>\n",
       "    <tr>\n",
       "      <th>3</th>\n",
       "      <td>0</td>\n",
       "      <td>U dun say so early hor... U c already then say...</td>\n",
       "      <td>u dun say earli hor u c alreadi say</td>\n",
       "    </tr>\n",
       "    <tr>\n",
       "      <th>4</th>\n",
       "      <td>0</td>\n",
       "      <td>Nah I don't think he goes to usf, he lives aro...</td>\n",
       "      <td>nah think goe usf live around though</td>\n",
       "    </tr>\n",
       "  </tbody>\n",
       "</table>\n",
       "</div>"
      ],
      "text/plain": [
       "   target                                               text  \\\n",
       "0       0  Go until jurong point, crazy.. Available only ...   \n",
       "1       0                      Ok lar... Joking wif u oni...   \n",
       "2       1  Free entry in 2 a wkly comp to win FA Cup fina...   \n",
       "3       0  U dun say so early hor... U c already then say...   \n",
       "4       0  Nah I don't think he goes to usf, he lives aro...   \n",
       "\n",
       "                                    transformed_text  \n",
       "0  go jurong point crazi avail bugi n great world...  \n",
       "1                              ok lar joke wif u oni  \n",
       "2  free entri 2 wkli comp win fa cup final tkt 21...  \n",
       "3                u dun say earli hor u c alreadi say  \n",
       "4               nah think goe usf live around though  "
      ]
     },
     "execution_count": 14,
     "metadata": {},
     "output_type": "execute_result"
    }
   ],
   "source": [
    "df['transformed_text'] = df['text'].apply(transform_text)\n",
    "df.head()"
   ]
  },
  {
   "cell_type": "code",
   "execution_count": 15,
   "metadata": {},
   "outputs": [],
   "source": [
    "from sklearn.feature_extraction.text import CountVectorizer, TfidfVectorizer\n",
    "tfid = TfidfVectorizer(max_features = 500)"
   ]
  },
  {
   "cell_type": "code",
   "execution_count": 16,
   "metadata": {},
   "outputs": [],
   "source": [
    "X = tfid.fit_transform(df['transformed_text']).toarray()\n",
    "y = df['target'].values"
   ]
  },
  {
   "cell_type": "markdown",
   "metadata": {},
   "source": [
    "## Train Test Split"
   ]
  },
  {
   "cell_type": "code",
   "execution_count": 17,
   "metadata": {},
   "outputs": [],
   "source": [
    "from sklearn.model_selection import train_test_split\n",
    "X_train, X_test , y_train, y_test = train_test_split(X,y,test_size = 0.20, random_state = 2)"
   ]
  },
  {
   "cell_type": "markdown",
   "metadata": {},
   "source": [
    "## Model Training"
   ]
  },
  {
   "cell_type": "code",
   "execution_count": 20,
   "metadata": {},
   "outputs": [],
   "source": [
    "from sklearn.linear_model import LogisticRegression\n",
    "from sklearn.svm import SVC\n",
    "from sklearn.naive_bayes import MultinomialNB\n",
    "from sklearn.tree import DecisionTreeClassifier\n",
    "from sklearn.neighbors import KNeighborsClassifier\n",
    "from sklearn.ensemble import RandomForestClassifier\n",
    "from sklearn.ensemble import AdaBoostClassifier\n",
    "from sklearn.ensemble import BaggingClassifier\n",
    "from sklearn.ensemble import ExtraTreesClassifier\n",
    "from sklearn.ensemble import GradientBoostingClassifier\n",
    "from xgboost import XGBClassifier"
   ]
  },
  {
   "cell_type": "code",
   "execution_count": 21,
   "metadata": {},
   "outputs": [],
   "source": [
    "svc = SVC(kernel= \"sigmoid\", gamma  = 1.0)\n",
    "knc = KNeighborsClassifier()\n",
    "mnb = MultinomialNB()\n",
    "dtc = DecisionTreeClassifier(max_depth = 5)\n",
    "lrc = LogisticRegression(solver = 'liblinear', penalty = 'l1')\n",
    "rfc = RandomForestClassifier(n_estimators = 50, random_state = 2 )\n",
    "abc = AdaBoostClassifier(n_estimators = 50, random_state = 2)\n",
    "bc = BaggingClassifier(n_estimators = 50, random_state = 2)\n",
    "etc = ExtraTreesClassifier(n_estimators = 50, random_state = 2)\n",
    "gbdt = GradientBoostingClassifier(n_estimators = 50, random_state = 2)    \n",
    "xgb  = XGBClassifier(n_estimators = 50, random_state = 2)"
   ]
  },
  {
   "cell_type": "code",
   "execution_count": 22,
   "metadata": {},
   "outputs": [],
   "source": [
    "clfs = {\n",
    "    'SVC': svc,\n",
    "    'KNN': knc,\n",
    "    'NB': mnb,\n",
    "    'DT': dtc,\n",
    "    'LR': lrc,\n",
    "    'RF': rfc,\n",
    "    'Adaboost': abc,\n",
    "    'Bgc': bc,\n",
    "    'ETC': etc,\n",
    "    'GBDT': gbdt,\n",
    "    'xgb': xgb\n",
    "    \n",
    "}"
   ]
  },
  {
   "cell_type": "markdown",
   "metadata": {},
   "source": [
    "## Model Evaluation"
   ]
  },
  {
   "cell_type": "code",
   "execution_count": 23,
   "metadata": {},
   "outputs": [],
   "source": [
    "from sklearn.metrics import accuracy_score, precision_score\n",
    "def train_classifier(clfs, X_train, y_train, X_test, y_test):\n",
    "    clfs.fit(X_train,y_train)\n",
    "    y_pred = clfs.predict(X_test)\n",
    "    accuracy = accuracy_score(y_test, y_pred)\n",
    "    precision = precision_score(y_test, y_pred)\n",
    "    return accuracy , precision"
   ]
  },
  {
   "cell_type": "code",
   "execution_count": 24,
   "metadata": {},
   "outputs": [
    {
     "name": "stdout",
     "output_type": "stream",
     "text": [
      "\n",
      "For:  SVC\n",
      "Accuracy:  0.9661508704061895\n",
      "Precision:  0.9327731092436975\n",
      "\n",
      "For:  KNN\n",
      "Accuracy:  0.9274661508704062\n",
      "Precision:  1.0\n",
      "\n",
      "For:  NB\n",
      "Accuracy:  0.9709864603481625\n",
      "Precision:  0.9655172413793104\n",
      "\n",
      "For:  DT\n",
      "Accuracy:  0.9381044487427466\n",
      "Precision:  0.9111111111111111\n",
      "\n",
      "For:  LR\n",
      "Accuracy:  0.9622823984526112\n",
      "Precision:  0.9541284403669725\n",
      "\n",
      "For:  RF\n",
      "Accuracy:  0.9738878143133463\n",
      "Precision:  0.9586776859504132\n",
      "\n",
      "For:  Adaboost\n",
      "Accuracy:  0.9245647969052224\n",
      "Precision:  0.875\n",
      "\n",
      "For:  Bgc\n",
      "Accuracy:  0.965183752417795\n",
      "Precision:  0.9180327868852459\n",
      "\n",
      "For:  ETC\n",
      "Accuracy:  0.9758220502901354\n",
      "Precision:  0.9448818897637795\n",
      "\n",
      "For:  GBDT\n",
      "Accuracy:  0.9526112185686654\n",
      "Precision:  0.9405940594059405\n",
      "\n",
      "For:  xgb\n",
      "Accuracy:  0.9709864603481625\n",
      "Precision:  0.95\n"
     ]
    }
   ],
   "source": [
    "accuracy_scores = []\n",
    "precision_scores = []\n",
    "for name , clfs in clfs.items():\n",
    "    current_accuracy, current_precision = train_classifier(clfs, X_train, y_train, X_test, y_test)\n",
    "    print()\n",
    "    print(\"For: \", name)\n",
    "    print(\"Accuracy: \", current_accuracy)\n",
    "    print(\"Precision: \", current_precision)\n",
    "    \n",
    "    accuracy_scores.append(current_accuracy)\n",
    "    precision_scores.append(current_precision)"
   ]
  },
  {
   "cell_type": "code",
   "execution_count": null,
   "metadata": {},
   "outputs": [],
   "source": []
  }
 ],
 "metadata": {
  "kernelspec": {
   "display_name": "base",
   "language": "python",
   "name": "python3"
  },
  "language_info": {
   "codemirror_mode": {
    "name": "ipython",
    "version": 3
   },
   "file_extension": ".py",
   "mimetype": "text/x-python",
   "name": "python",
   "nbconvert_exporter": "python",
   "pygments_lexer": "ipython3",
   "version": "3.13.2"
  }
 },
 "nbformat": 4,
 "nbformat_minor": 2
}
